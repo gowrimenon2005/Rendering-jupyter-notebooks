{
 "cells": [
  {
   "cell_type": "markdown",
   "metadata": {},
   "source": [
    "# Getting Started!\n",
    "\n",
    "Dear student, welcome to the lecture notes of the course AE2230-I: Flight Mechanics! The lecture notes consist of eight notebooks; seven of them focusing on one of the lectures in the course. A 'preliminary' notebook has also been included for your convenience, this should serve as a good refresher to relevant background knowledge. \n",
    "\n",
    "Furthermore, the contents of the notebooks predominantly follow what will be/has been taught in the lectures, however some additional bits of information and extra exercises have been included too. At scattered locations across the notebooks, you can also find \"author notes\" - these are some tips and tricks I found useful when studying for the course! \n",
    "\n",
    "This course relies heavily on mathematics and thus to support of the mathematical derivations, where applicable interactive plots have been given. These plots allow you the possibility to change relevant input parameters and observe the effect of changing those parameters. In addition, most of these plots have the possibility for you to enter an aircraft of your choice to visualise the effects of the theory learnt on different types of aircrafts. Of course due to constraints on data and for ease of accessibility you can choose between eight types of aircrafts, namely:\n",
    "\n",
    "- Fokker 100 \n",
    "- Gulfstream G650\n",
    "- Boeing 737-800\n",
    "- A330-300\n",
    "- MD-11\n",
    "- Boeing 777-200\n",
    "- Boeing 747-400\n",
    "- A380-800\n",
    "\n",
    "Please note when entering the name of the aircraft in the input boxes pay close attention to spelling and do not include quotation marks! \n",
    "\n",
    "Well then, without further ado, click on a notebook of your choice (if it is your first time reading going in order is advised)!\n"
   ]
  },
  {
   "cell_type": "markdown",
   "metadata": {},
   "source": [
    "<html>\n",
    "<body>\n",
    "\n",
    "<img src=\"Images\\lec-timeline-no-pictures.png\" usemap=\"#timeline\">\n",
    "\n",
    "<map name=\"timeline\">\n",
    "    <!-- Define areas and hyperlinks -->\n",
    "    <area shape=\"rect\" coords=\"0,0,135,135\" href=\"Lecture 1.ipynb\" alt=\"Notebook 1\">\n",
    "    <area shape=\"rect\" coords=\"140,0,270,140\" href=\"Lecture 2.ipynb\" alt=\"Notebook 2\">\n",
    "    <area shape=\"rect\" coords=\"280,0,410,280\" href=\"Lecture 3.ipynb\" alt=\"Notebook 3\">\n",
    "    <area shape=\"rect\" coords=\"410,0,540,410\" href=\"Lecture 4.ipynb\" alt=\"Notebook 4\">\n",
    "    <area shape=\"rect\" coords=\"540,0,670,540\" href=\"Lecture 5.ipynb\" alt=\"Notebook 5\">\n",
    "    <area shape=\"rect\" coords=\"670,0,800,670\" href=\"Lecture 6.ipynb\" alt=\"Notebook 6\">\n",
    "    <area shape=\"rect\" coords=\"800,0,930,800\" href=\"Lecture 7.ipynb\" alt=\"Notebook 7\"> \n",
    "    <!-- Add more areas as needed -->\n",
    "</map>\n",
    "\n",
    "</body>\n",
    "</html>"
   ]
  }
 ],
 "metadata": {
  "kernelspec": {
   "display_name": "Python 3 (ipykernel)",
   "language": "python",
   "name": "python3"
  },
  "language_info": {
   "codemirror_mode": {
    "name": "ipython",
    "version": 3
   },
   "file_extension": ".py",
   "mimetype": "text/x-python",
   "name": "python",
   "nbconvert_exporter": "python",
   "pygments_lexer": "ipython3",
   "version": "3.10.4"
  }
 },
 "nbformat": 4,
 "nbformat_minor": 4
}
