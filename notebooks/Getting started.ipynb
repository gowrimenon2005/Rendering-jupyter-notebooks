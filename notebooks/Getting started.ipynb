{
 "cells": [
  {
   "cell_type": "markdown",
   "metadata": {},
   "source": [
    "# AE2230-I Flight Mechanics: suplementary lecture material \n",
    "\n",
    "### Prepared by: "
   ]
  },
  {
   "cell_type": "markdown",
   "metadata": {},
   "source": [
    "Dear student, welcome to the lecture notebooks of the course AE2230-I: Flight Mechanics! There are eight notebooks; seven of them focusing on one of the lectures in the course. A preliminary notebook has also been included for your convenience, this goes into more detail about the coordinate systems used in the course. This of course has been covered in previous courses, so please revist your notes as well!  \n",
    "\n",
    "Furthermore, the contents of the notebooks predominantly follow what will be/has been taught in the lectures, however some additional bits of information and extra exercises have been included too. At scattered locations across the notebooks, you can also find \"author notes\" - these are some tips and tricks I found useful when studying for the course! \n",
    "\n",
    "This course relies heavily on mathematics and thus to support of the mathematical derivations, where applicable interactive plots have been given. These plots allow you the possibility to change relevant input parameters and observe the effect of changing those parameters. In addition, most of these plots have the possibility for you to enter an aircraft of your choice to visualise the effects of the theory learnt on different types of aircrafts. For ease of accessibility, and constraints on data, you can choose between six types of aircrafts, namely:\n",
    "\n",
    "- Fokker 100 \n",
    "- Gulfstream G650\n",
    "- Boeing 737-800\n",
    "- A330-300\n",
    "- MD-11\n",
    "- Boeing 777-200\n",
    "\n",
    "Well then, without further ado, click on a notebook of your choice (if it is your first time reading going in order is advised) and let's take off!"
   ]
  },
  {
   "cell_type": "markdown",
   "metadata": {},
   "source": [
    "<!DOCTYPE html>\n",
    "<html>\n",
    "<body>\n",
    "\n",
    "<!-- Image 1 -->\n",
    "<a href=\"Lecture 1.ipynb\">\n",
    "    <img src=\"Images\\lec1.png\" style=\"display:inline-block; width: 220px;\">\n",
    "</a>\n",
    "\n",
    "<!-- Image 2 -->\n",
    "<a href=\"Lecture 2.ipynb\">\n",
    "    <img src=\"Images\\lec2.png\" style=\"display:inline-block; width: 220px;\">\n",
    "</a>\n",
    "\n",
    "<!-- Image 3 -->\n",
    "<a href=\"Lecture 3.ipynb\">\n",
    "    <img src=\"Images\\lec3.png\" style=\"display:inline-block; width: 220px;\">\n",
    "</a>\n",
    "\n",
    "<!-- Image 4 -->\n",
    "<a href=\"Lecture 4.ipynb\">\n",
    "    <img src=\"Images\\lec4.png\" style=\"display:inline-block; width: 220px;\">\n",
    "</a>\n",
    "\n",
    "<!-- Image 5 -->\n",
    "<a href=\"Lecture 5.ipynb\">\n",
    "    <img src=\"Images\\lec5.png\" style=\"display:inline-block; width: 220px;\">\n",
    "</a>\n",
    "\n",
    "<!-- Image 6 -->\n",
    "<a href=\"Lecture 6.ipynb\">\n",
    "    <img src=\"Images\\lec6.png\" style=\"display:inline-block; width: 220px;\">\n",
    "</a>\n",
    "\n",
    "<!-- Image 7 -->\n",
    "<a href=\"Lecture 7.ipynb\">\n",
    "    <img src=\"Images\\lec7.png\" style=\"display:inline-block; width: 220px;\">\n",
    "</a>\n",
    "\n",
    "<!-- Add more images and links as needed -->\n",
    "\n",
    "</body>\n",
    "</html>\n"
   ]
  }
 ],
 "metadata": {
  "kernelspec": {
   "display_name": "Python 3 (ipykernel)",
   "language": "python",
   "name": "python3"
  },
  "language_info": {
   "codemirror_mode": {
    "name": "ipython",
    "version": 3
   },
   "file_extension": ".py",
   "mimetype": "text/x-python",
   "name": "python",
   "nbconvert_exporter": "python",
   "pygments_lexer": "ipython3",
   "version": "3.10.4"
  }
 },
 "nbformat": 4,
 "nbformat_minor": 4
}
