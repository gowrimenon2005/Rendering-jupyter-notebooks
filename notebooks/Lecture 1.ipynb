{
 "cells": [
  {
   "cell_type": "markdown",
   "id": "8c3e7c9e",
   "metadata": {},
   "source": [
    "# Lecture 1: Powered Climb and Descent \n",
    "\n",
    "## Roadmap of this lecture\n",
    "Hello there! Welcome to first lecture of the seven-part series. To guide you, a roadmap of the lecture is presented. Should you feel a little lost or in need of some context, this roadmap serves to provide you glimpse of the larger picture. If there are any sections you would like to jump to or revisit, feel free to directly skip ahead. \n",
    "\n",
    "Firstly, the [Lecture Objectives](#lec-obj) are stated. These should help you understand what to expect and more importantly inform you of what you are expected to be able to do. It is wise to revisit these objectives once you have understood the content. Thereafter, the framework for all our analysis is set under [Kinematics and Dynamics](#kinematics-and-dynamics). Using this [Steady Climb Performance](#steady-climb) is investigated. Furthermore, [En-route Climb Procedures and Performance](#en-route-climb-p-p) are explored. Lastly, the main [Conclusions](#conclusion) are summarised, and short of preview of the next lecture is given in the section [What next?](#what-next). \n"
   ]
  },
  {
   "cell_type": "markdown",
   "id": "c2b66071",
   "metadata": {},
   "source": [
    "<a id=\"lec-obj\"></a>\n",
    "## Lecture Objectives\n",
    "By the end of mastering this lecture, for flights in powered climb and descent phases, you should be able to: \n",
    "> *describe* operational and optimal flying strategies   \n",
    "> *formulate* point-mass equations of motion    \n",
    "> *derive* expressions for performance metrics     \n",
    "> *calculate* the most relevant performance metrics     \n",
    "> *explain* the effects of flight and aircraft parameters on performance metrics \n",
    "\n",
    "Make sure to practice sufficiently until you are well comfortable with these objectives! "
   ]
  },
  {
   "cell_type": "markdown",
   "id": "d8409c80",
   "metadata": {},
   "source": [
    "<a id=\"Kinematics-and-dynamics\"></a>\n",
    "## Kinematics and Dynamics \n",
    "\n",
    "Prior to beginning with any form of performance prediction, it is quintessential to understand the assumptions made and their implications. Here, we will limit ourselves to considering unsteady, symmetric flight under constant mass. This assumption is three-fold, the implications shall be considered separately. \n",
    "1. Unsteady flight implies that the forces and moments action on the body do vary in time, in either magnitude or direction. This can be mathematically written as\n",
    "\n",
    "$$ \\frac{dV}{dt} \\neq 0 \\space \\text{and} \\space \\frac{d\\gamma}{dt} \\neq 0$$\n",
    "\n",
    "2. Symmetric flight implies that both the angle fo sideslip is zero and the plane of symmatery is perpendicular to the horizontal plane of the Earth. \n",
    "3. Constant mass simply states the mass of body is assumed to remain constant through the analysis.\n",
    "\n",
    "Using these assumptions, the following free body diagram can be drawn:\n",
    "\n",
    "![text](Images\\lec1-fbd-gen-eom.png)\n",
    "\n",
    "Based on these assumptions and the figure above, the general equations of motions can be written as follows:\n",
    "\n",
    "$$ T\\cos{\\alpha_T} -D -W \\sin{\\gamma} = \\frac{W}{g}\\dot{V} \\\\ L + T\\sin{\\alpha_T} - W\\cos{\\gamma} = \\frac{W}{g}V\\dot{\\gamma}$$\n",
    "\n",
    "Under some circumstances, these equations simplify. The two most common situations to consider are under steady flight, and under the small angle approximations. Firstly, in the case of steady flight with a rectilinear trajectory the rate of change of velocity and flight path angle are zero, hence the equations of motion become:\n",
    "\n",
    "$$ T\\cos{\\alpha_T} -D -W \\sin{\\gamma} = 0 \\\\ L + T\\sin{\\alpha_T} - W\\cos{\\gamma} = 0$$\n",
    "\n",
    "Furthermore, in the case of gentle climbs and descents that is, if $|\\gamma| << 1$ then $\\cos \\gamma \\approx 1$ and $\\sin \\gamma \\approx \\gamma$. Furthermore, the same is applicable for the thrust angle, $\\alpha_T$. In addition, provided the thrust to weight ratio of the aircraft is approximately 0.2/0.3 it can conservatively be assumed that: \n",
    "\n",
    "$$ T \\sin \\alpha_T << W \\cos \\gamma$$\n",
    "\n",
    "In which case the general steady equations of motion become:\n",
    "\n",
    "$$ T -D -W \\sin{\\gamma} = 0 \\\\ L - W = 0$$\n",
    "\n",
    "Please note, even though the small angle approximation suggests the use of $\\gamma$ rather than $\\sin \\gamma$ as the coefficient for weight, when performing computations the complexity is the same and hence $\\sin \\gamma$ is used. \n",
    "\n"
   ]
  },
  {
   "cell_type": "markdown",
   "id": "bb0b5a8c",
   "metadata": {},
   "source": [
    "<span style='color:green'>Challenge!\n",
    "Can you derive the analytical expressions for $\\gamma$ and $L$ for steady symmetric flight without the small angle approximation? "
   ]
  },
  {
   "cell_type": "markdown",
   "id": "c0222df0",
   "metadata": {},
   "source": [
    "<a id=\"steady-climb\"></a>\n",
    "## Steady Climb Performance \n",
    "\n",
    "To consider steady climb performance, let us revisit the applicable equations of motion, namely:\n",
    "\n",
    "$$ T -D -W \\sin{\\gamma} = 0 \\\\ L - W = 0$$\n",
    "\n",
    "The equation provides the relation between the angle of climb, thrust required and thrust available. This is because the term $\\sin \\gamma$ is the angle of climb, $D$ is the drag (in other words the thrust required), and $T$ is the thrust avaiable. This equation can be rearranged to obtain an explicit equation for the angle of climb: \n",
    "\n",
    "$$ \\sin \\gamma = \\frac{T - D}{W}$$\n",
    "\n",
    "It is known that the rate of climb is simply the angle of climb multiplied by the velocity. With this in mind, let us multiply the angle of climb equation by velocity to obtain:\n",
    "\n",
    "$$ TV - DV -WV \\sin \\gamma = 0 \\Rightarrow V \\sin \\gamma = \\frac{TV - DV}{W}$$\n",
    "\n",
    "The implicit form of the equation is known as the power equation, as it illustrates the relation between the power available, $TV$, power required, $DV$, and the rate of climb $V \\sin \\gamma$. \n",
    "\n",
    "To gain a more intuitive understanding, recall that the rate of climb can also be defined as the rate of change of altitude. Furthermore, recall that altitude is the potential energy per unit weight. Combining these two trains of thought:\n",
    "\n",
    "$$ \\frac{TV - DV}{W} = \\frac{P_a - P_r}{W} = V \\sin \\gamma = \\frac{\\partial h}{\\partial t} = \\frac{\\partial (E_p/W)}{\\partial t}$$\n",
    "\n",
    "This is insightful because it demonstrates the difference between the available and required power is equivalent to the rate of change of potential energy - which is what you would intuitively expect (excess power allows us to climb)!\n",
    "\n"
   ]
  },
  {
   "cell_type": "code",
   "execution_count": 26,
   "id": "5306edf9",
   "metadata": {},
   "outputs": [
    {
     "data": {
      "application/vnd.jupyter.widget-view+json": {
       "model_id": "323f20cfdd534609b4fc44bcf84c809f",
       "version_major": 2,
       "version_minor": 0
      },
      "text/plain": [
       "Text(value='', description='Enter aircraft name: ', style=TextStyle(description_width='initial'))"
      ]
     },
     "metadata": {},
     "output_type": "display_data"
    },
    {
     "data": {
      "application/vnd.jupyter.widget-view+json": {
       "model_id": "75102efffe924e34a005263f944c6230",
       "version_major": 2,
       "version_minor": 0
      },
      "text/plain": [
       "FloatText(value=0.0, description='Enter desired value for density: ', style=DescriptionStyle(description_width…"
      ]
     },
     "metadata": {},
     "output_type": "display_data"
    },
    {
     "data": {
      "application/vnd.jupyter.widget-view+json": {
       "model_id": "838df63142864387ba10586201f11b4b",
       "version_major": 2,
       "version_minor": 0
      },
      "text/plain": [
       "Output()"
      ]
     },
     "metadata": {},
     "output_type": "display_data"
    }
   ],
   "source": [
    "%matplotlib inline\n",
    "import numpy as np \n",
    "import pandas as pd\n",
    "import matplotlib.pyplot as plt\n",
    "from ipywidgets import *\n",
    "# from data_file import *\n",
    "import seaborn as sns\n",
    "from mpl_toolkits.mplot3d import Axes3D\n",
    "# from function_file import *\n",
    "\n",
    "def get_aircraft_data(aircraft_name):\n",
    "    aircraft_data = pd.read_csv('Aircraft_data.csv')\n",
    "    surface_area = aircraft_data.loc[aircraft_data['Aircraft_name'] == aircraft_name]['Wing_surface_area'].iloc[0]\n",
    "    weight = aircraft_data.loc[aircraft_data['Aircraft_name'] == aircraft_name]['MTOW'].iloc[0]\n",
    "    aspect_ratio = aircraft_data.loc[aircraft_data['Aircraft_name'] == aircraft_name]['Wing_aspect_ratio'].iloc[0]\n",
    "    max_thrust = aircraft_data.loc[aircraft_data['Aircraft_name'] == aircraft_name]['Thrust'].iloc[0]\n",
    "    return surface_area, weight, aspect_ratio, max_thrust\n",
    "\n",
    "def td_aoc_curve(name, rho):\n",
    "    sns.set_style('whitegrid')\n",
    "    C_D0 = 0.02\n",
    "    e = 0.9\n",
    "    S, W, A, T_max = get_aircraft_data(name)\n",
    "    W = W * 9.81\n",
    "    velocities = np.linspace(50, 400, 351)\n",
    "    velocities2 = np.linspace(1, 400, 400)\n",
    "    D = (C_D0 * 0.5 * rho * velocities**2 * S + 2 * W**2 / (np.pi * A * e * rho * velocities**2 * S))\n",
    "    T_plot = T_max * (1-0.02*velocities2**0.5)\n",
    "    T = T_max * (1-0.02*velocities**0.5)\n",
    "    AOC = (T - D)/W\n",
    "\n",
    "    plt.figure(figsize=(10, 5))\n",
    "    plt.subplot(1, 2, 1)\n",
    "    plt.plot(velocities, D/1000, label='Thrust required', color='red')\n",
    "    plt.plot(velocities2, T_plot/1000, label='Thrust available', color='blue')\n",
    "    plt.legend()\n",
    "    plt.xlabel('Velocity [m/s]')\n",
    "    plt.ylabel('Thrust [kN]')\n",
    "\n",
    "    plt.subplot(1, 2, 2)\n",
    "    plt.plot(velocities, AOC, label='AOC', color='red')\n",
    "    plt.legend()\n",
    "    plt.xlabel('Velocity [m/s]')\n",
    "    plt.ylabel('AOC')\n",
    "\n",
    "    plt.show()\n",
    "\n",
    "# density = float(input(\"Enter the altitude density: \"))\n",
    "# td_aoc_curve(density)\n",
    "\n",
    "aircraft_name = widgets.Text(description=\"Enter aircraft name: \")\n",
    "aircraft_name.style = {'description_width': 'initial'}\n",
    "display(aircraft_name)\n",
    "\n",
    "density = widgets.FloatText(description=\"Enter desired value for density: \")\n",
    "density.style = {'description_width': 'initial'}\n",
    "display(density)\n",
    "\n",
    "button = widgets.Button(description=\"Plot\")\n",
    "\n",
    "output = interactive_output(td_aoc_curve, {'name': aircraft_name, 'rho': density})\n",
    "\n",
    "# display(button)\n",
    "\n",
    "def on_button_click(b):\n",
    "    output.clear_output(wait=True)\n",
    "    with output:\n",
    "        td_aoc_curve(aircraft_name.value, density.value)\n",
    "\n",
    "button.on_click(on_button_click)\n",
    "\n",
    "display(output)"
   ]
  },
  {
   "cell_type": "code",
   "execution_count": 29,
   "id": "1a8a6d5e",
   "metadata": {},
   "outputs": [
    {
     "data": {
      "application/vnd.jupyter.widget-view+json": {
       "model_id": "adfbd814cdb5443d84738a20ed5466f9",
       "version_major": 2,
       "version_minor": 0
      },
      "text/plain": [
       "Text(value='', description='Enter aircraft name: ', style=TextStyle(description_width='initial'))"
      ]
     },
     "metadata": {},
     "output_type": "display_data"
    },
    {
     "data": {
      "application/vnd.jupyter.widget-view+json": {
       "model_id": "c4eb0812c8464217b0a516f0a811cbae",
       "version_major": 2,
       "version_minor": 0
      },
      "text/plain": [
       "FloatText(value=0.0, description='Enter desired value for density: ', style=DescriptionStyle(description_width…"
      ]
     },
     "metadata": {},
     "output_type": "display_data"
    },
    {
     "data": {
      "application/vnd.jupyter.widget-view+json": {
       "model_id": "ccede7e719004536bb0d9efc21198dd1",
       "version_major": 2,
       "version_minor": 0
      },
      "text/plain": [
       "Output()"
      ]
     },
     "metadata": {},
     "output_type": "display_data"
    },
    {
     "data": {
      "image/png": "[encoded data removed]",
      "text/plain": [
       "<Figure size 1000x500 with 2 Axes>"
      ]
     },
     "metadata": {},
     "output_type": "display_data"
    }
   ],
   "source": [
    "# papr_roc_curve(density)\n",
    "\n",
    "aircraft_name = widgets.Text(description=\"Enter aircraft name: \")\n",
    "aircraft_name.style = {'description_width': 'initial'}\n",
    "display(aircraft_name)\n",
    "\n",
    "density = widgets.FloatText(description=\"Enter desired value for density: \")\n",
    "density.style = {'description_width': 'initial'}\n",
    "display(density)\n",
    "\n",
    "button_1 = widgets.Button(description=\"Plot\")\n",
    "\n",
    "def papr_roc_curve(name, rho):\n",
    "    global current_fig\n",
    "    if current_fig is not None:\n",
    "        plt.close(current_fig)\n",
    "        \n",
    "    sns.set_style('whitegrid')\n",
    "    C_D0 = 0.02\n",
    "    e = 0.9\n",
    "    S, W, A, T_max = get_aircraft_data(name)\n",
    "    W = W * 9.81\n",
    "    velocities = np.linspace(50, 400, 351)\n",
    "    velocities2 = np.linspace(1, 400, 400)\n",
    "    DV = (C_D0 * 0.5 * rho * velocities**2 * S + 2 * W**2 / (np.pi * A * e * rho * velocities**2 * S)) * velocities\n",
    "    Pr_plot = T_max * (1-0.02*velocities2**0.5) * velocities2\n",
    "    PR = T_max * (1-0.02*velocities**0.5) * velocities\n",
    "    ROC = (PR - DV)/W\n",
    "\n",
    "    plt.figure(figsize=(10, 5))\n",
    "    plt.subplot(1, 2, 1)\n",
    "    plt.plot(velocities, DV, label='Power required', color='red')\n",
    "    plt.plot(velocities2, Pr_plot, label='Power available', color='blue')\n",
    "    plt.legend()\n",
    "    plt.xlabel('Velocity [m/s]')\n",
    "    plt.ylabel('Power [W]')\n",
    "\n",
    "    plt.subplot(1, 2, 2)\n",
    "    plt.plot(velocities, ROC, label='ROC', color='red')\n",
    "    plt.legend()\n",
    "    plt.xlabel('Velocity [m/s]')\n",
    "    plt.ylabel('ROC [m/s]')\n",
    "    plt.ylim(0, max(ROC)+2)\n",
    "    # plt.xlim(0, 250)\n",
    "\n",
    "    plt.show()\n",
    "\n",
    "output_1 = interactive_output(papr_roc_curve, {'name': aircraft_name, 'rho': density})\n",
    "\n",
    "# display(button)\n",
    "\n",
    "def on_button_click(b):\n",
    "    output_1.clear_output(wait=True)\n",
    "    with output_1:\n",
    "        papr_roc_curve(aircraft_name.value, float(density.value))\n",
    "\n",
    "button_1.on_click(on_button_click)\n",
    "\n",
    "display(output_1)"
   ]
  },
  {
   "cell_type": "markdown",
   "id": "261f503c",
   "metadata": {},
   "source": [
    "### Altitude Effects\n",
    "\n",
    "The effect of altitude arises from the difference in air density. With decreasing air density the power required curves experience a horizontal translation to the right and an upward displacement. Similarly the power available curves have lower gradients. Hence, the rate of climb decreases as altitude increases. To visualise this result, enter two desired densities in the cell below. "
   ]
  },
  {
   "cell_type": "code",
   "execution_count": 25,
   "id": "a7d7105c",
   "metadata": {},
   "outputs": [
    {
     "data": {
      "application/vnd.jupyter.widget-view+json": {
       "model_id": "e7576c3a3f564217a09f80215147d792",
       "version_major": 2,
       "version_minor": 0
      },
      "text/plain": [
       "Text(value='', description='Enter aircraft name: ', style=TextStyle(description_width='initial'))"
      ]
     },
     "metadata": {},
     "output_type": "display_data"
    },
    {
     "data": {
      "application/vnd.jupyter.widget-view+json": {
       "model_id": "09b51eb69b7f4526bc2a7a7bf3b16af1",
       "version_major": 2,
       "version_minor": 0
      },
      "text/plain": [
       "FloatText(value=0.0, description='Enter desired value for lower density: ', style=DescriptionStyle(description…"
      ]
     },
     "metadata": {},
     "output_type": "display_data"
    },
    {
     "data": {
      "application/vnd.jupyter.widget-view+json": {
       "model_id": "ab36218f29984f3bae8650fc22365a0e",
       "version_major": 2,
       "version_minor": 0
      },
      "text/plain": [
       "FloatText(value=0.0, description='Enter desired value for upper density: ', style=DescriptionStyle(description…"
      ]
     },
     "metadata": {},
     "output_type": "display_data"
    },
    {
     "data": {
      "application/vnd.jupyter.widget-view+json": {
       "model_id": "ad6a0a36f0ee4244b898495b5ac673fa",
       "version_major": 2,
       "version_minor": 0
      },
      "text/plain": [
       "Output()"
      ]
     },
     "metadata": {},
     "output_type": "display_data"
    },
    {
     "data": {
      "text/plain": [
       "<Figure size 640x480 with 0 Axes>"
      ]
     },
     "metadata": {},
     "output_type": "display_data"
    },
    {
     "data": {
      "text/plain": [
       "<Figure size 640x480 with 0 Axes>"
      ]
     },
     "metadata": {},
     "output_type": "display_data"
    },
    {
     "data": {
      "text/plain": [
       "<Figure size 640x480 with 0 Axes>"
      ]
     },
     "metadata": {},
     "output_type": "display_data"
    },
    {
     "data": {
      "text/plain": [
       "<Figure size 640x480 with 0 Axes>"
      ]
     },
     "metadata": {},
     "output_type": "display_data"
    },
    {
     "data": {
      "text/plain": [
       "<Figure size 640x480 with 0 Axes>"
      ]
     },
     "metadata": {},
     "output_type": "display_data"
    },
    {
     "data": {
      "text/plain": [
       "<Figure size 640x480 with 0 Axes>"
      ]
     },
     "metadata": {},
     "output_type": "display_data"
    },
    {
     "data": {
      "text/plain": [
       "<Figure size 640x480 with 0 Axes>"
      ]
     },
     "metadata": {},
     "output_type": "display_data"
    },
    {
     "data": {
      "text/plain": [
       "<Figure size 640x480 with 0 Axes>"
      ]
     },
     "metadata": {},
     "output_type": "display_data"
    },
    {
     "data": {
      "text/plain": [
       "<Figure size 640x480 with 0 Axes>"
      ]
     },
     "metadata": {},
     "output_type": "display_data"
    },
    {
     "data": {
      "text/plain": [
       "<Figure size 640x480 with 0 Axes>"
      ]
     },
     "metadata": {},
     "output_type": "display_data"
    }
   ],
   "source": [
    "# rhol = float(input(\"Enter the lower altitude density: \"))\n",
    "# rhou = float(input(\"Enter the upper altitude density: \"))\n",
    "\n",
    "# visualise_altitude_effects_rc(rhol, rhou)\n",
    "\n",
    "aircraft_name = widgets.Text(description=\"Enter aircraft name: \")\n",
    "aircraft_name.style = {'description_width': 'initial'}\n",
    "display(aircraft_name)\n",
    "\n",
    "density_l = widgets.FloatText(description=\"Enter desired value for lower density: \")\n",
    "density_l.style = {'description_width': 'initial'}\n",
    "density_u = widgets.FloatText(description=\"Enter desired value for upper density: \")\n",
    "density_u.style = {'description_width': 'initial'}\n",
    "display(density_l, density_u)\n",
    "\n",
    "button = widgets.Button(description=\"Plot\")\n",
    "\n",
    "def visualise_altitude_effects_rc(name, rhol, rhou):\n",
    "    sns.set_style('whitegrid')\n",
    "    plt.clf()\n",
    "    C_D0 = 0.02\n",
    "    e = 0.9\n",
    "    S, W, A, T_max = get_aircraft_data(name)\n",
    "    W = W * 9.81\n",
    "    velocities = np.linspace(50, 250, 201)\n",
    "    velocities2 = np.linspace(1, 250, 350)\n",
    "    DVl = (C_D0 * 0.5 * rhol * velocities**2 * S + 2 * W**2 / (np.pi * A * e * rhol * velocities**2 * S)) * velocities\n",
    "    DVu = (C_D0 * 0.5 * rhou * velocities**2 * S + 2 * W**2 / (np.pi * A * e * rhou * velocities**2 * S)) * velocities\n",
    "    \n",
    "    Pr_plotl = T_max * (1-0.02*velocities2**0.5) * velocities2 * (rhol/1.225)**0.85\n",
    "    Pr_plotu = T_max * (1-0.02*velocities2**0.5) * velocities2 * (rhou/1.225)**0.85\n",
    "    PRl = T_max * (1-0.02*velocities**0.5) * velocities * (rhol/1.225)**0.85\n",
    "    PRu = T_max * (1-0.02*velocities**0.5) * velocities * (rhou/1.225)**0.85\n",
    "    \n",
    "    ROCl = (PRl - DVl)/W\n",
    "    ROCu = (PRu - DVu)/W\n",
    "    \n",
    "    plt.figure(figsize=(10, 5))\n",
    "    plt.subplot(1, 2, 1)\n",
    "    plt.plot(velocities, DVl, label=f'Power required at density = {rhol}', color='red', linestyle='--')\n",
    "    plt.plot(velocities, DVu, label=f'Power required at density = {rhou}', color='red')\n",
    "    plt.plot(velocities2, Pr_plotl, label=f'Power available at density = {rhol}', color='blue', linestyle='--')\n",
    "    plt.plot(velocities2, Pr_plotu, label=f'Power available at density = {rhou}', color='blue')\n",
    "    plt.legend()\n",
    "    plt.xlabel('Velocity [m/s]')\n",
    "    plt.ylabel('Power [W]')\n",
    "    plt.xlim(0, 250)\n",
    "\n",
    "    plt.subplot(1, 2, 2)\n",
    "    plt.plot(velocities, ROCl, label=f'ROC at density = {rhol}', color='green', linestyle='--')\n",
    "    plt.plot(velocities, ROCu, label=f'ROC at density = {rhou}', color='green')\n",
    "    plt.legend()\n",
    "    plt.xlabel('Velocity [m/s]')\n",
    "    plt.ylabel('ROC [m/s]')\n",
    "    plt.ylim(0, max(ROCu)+2)\n",
    "    plt.xlim(0, 250)\n",
    "\n",
    "    plt.tight_layout()\n",
    "    plt.show()\n",
    "    \n",
    "\n",
    "output = interactive_output(visualise_altitude_effects_rc, {'name': aircraft_name, 'rhol': density_l, 'rhou': density_u})\n",
    "\n",
    "# display(button)\n",
    "\n",
    "def on_button_click(b):\n",
    "    output = interactive_output(visualise_altitude_effects_rc, {'name': aircraft_name, 'rhol': density_l, 'rhou': density_u})\n",
    "    output.clear_output()\n",
    "    with output:\n",
    "        visualise_altitude_effects_rc(aircraft_name.value, float(density_l.value), float(density_u.value))\n",
    "\n",
    "button.on_click(on_button_click)\n",
    "\n",
    "display(output)"
   ]
  },
  {
   "cell_type": "markdown",
   "id": "a6eda182",
   "metadata": {},
   "source": [
    "This notion can be extended, that is the rate of climb climbs can be computed at several altitudes. Doing so, one obtains the following plot. "
   ]
  },
  {
   "cell_type": "code",
   "execution_count": 30,
   "id": "aeb02739",
   "metadata": {},
   "outputs": [
    {
     "data": {
      "application/vnd.jupyter.widget-view+json": {
       "model_id": "f50fa364bc3d4d2da72631baad72fa4a",
       "version_major": 2,
       "version_minor": 0
      },
      "text/plain": [
       "Text(value='', description='Enter aircraft name: ', style=TextStyle(description_width='initial'))"
      ]
     },
     "metadata": {},
     "output_type": "display_data"
    },
    {
     "data": {
      "application/vnd.jupyter.widget-view+json": {
       "model_id": "ca4188084d544bdcaa2a2f4368d40a83",
       "version_major": 2,
       "version_minor": 0
      },
      "text/plain": [
       "Output()"
      ]
     },
     "metadata": {},
     "output_type": "display_data"
    }
   ],
   "source": [
    "# altitude_effects_rc_v2()\n",
    "\n",
    "aircraft_name = widgets.Text(description=\"Enter aircraft name: \")\n",
    "aircraft_name.style = {'description_width': 'initial'}\n",
    "display(aircraft_name)\n",
    "\n",
    "button = widgets.Button(description=\"Plot\")\n",
    "\n",
    "output = interactive_output(altitude_effects_rc_v2, {'name': aircraft_name})\n",
    "\n",
    "# display(button)\n",
    "\n",
    "def altitude_effects_rc_v2(name):\n",
    "    sns.set_style('whitegrid')\n",
    "    C_D0 = 0.04\n",
    "    e = 0.9\n",
    "    S, W, A, T_max = get_aircraft_data(name)\n",
    "    W = W * 9.81\n",
    "    # W = 445600\n",
    "    # S = 94\n",
    "    # A = 30.65\n",
    "    # T_max = 67200\n",
    "    altitude_un = np.linspace(0, 10500, 200)\n",
    "    velocity = np.linspace(10, 180, 200)\n",
    "    altitude, velocity = np.meshgrid(altitude_un, velocity)\n",
    "\n",
    "    rho = 1.225 * (1 - 0.0065 * altitude / 288.15) ** (9.81 / (0.0065 * 287))\n",
    "    dv = (C_D0 * 0.5 * 1.225 * velocity**2 * S + 2 * W**2 \n",
    "          / (np.pi * A * e * 1.225 * velocity**2 * S)) * velocity\n",
    "    # pa = T_max * (1-0.02*velocity**0.5) * velocity * (rho/1.225)**0.85\n",
    "    pa = T_max * velocity * (rho/1.225)**0.85\n",
    "    roc = (pa - dv)/W\n",
    "    # print(roc)\n",
    "    roc1 = np.where(roc < 0, np.nan, roc)\n",
    "    roc2 = np.where(roc < 0, 0, roc)\n",
    "    # for i in range(roc.shape[0]):\n",
    "    #     for j in range(roc.shape[1]):\n",
    "    #         if roc[i, j] > 0:\n",
    "    #             print(f'something works {i} and {j} and {roc[i, j]}')\n",
    "    # print(roc.max(axis=1))\n",
    "\n",
    "    # # subplot 1 \n",
    "    plt.figure(figsize=(10, 5))\n",
    "    plt.subplot(1, 2, 1)\n",
    "    contour_plot = plt.contourf(velocity, altitude, roc1, levels=20, cmap='RdBu', vmin=0)\n",
    "    contour_lines = plt.contour(velocity, altitude, roc1, levels=20, colors='k', linestyles='dashed', vmin=0)\n",
    "\n",
    "    # # Add a colorbar\n",
    "    plt.colorbar(contour_plot, label='ROC', extend='both')\n",
    "    plt.xlabel('Velocity [m/s]')\n",
    "    plt.ylabel('Altitude [m]')\n",
    "\n",
    "    # # subplot 2\n",
    "    # print(roc.max(axis=0))\n",
    "    plt.subplot(1, 2, 2)\n",
    "    plt.plot(roc2.max(axis=0), altitude_un)\n",
    "    plt.xlabel('ROC [m/s]')\n",
    "    plt.ylabel('Altitude [m]')\n",
    "    plt.show()\n",
    "    return \n",
    "\n",
    "def on_button_click(b):\n",
    "    output = interactive_output(altitude_effects_rc_v2, {'name': aircraft_name})\n",
    "    output.clear_output()\n",
    "    with output:\n",
    "        altitude_effects_rc_v2(aircraft_name.value, float(density_l.value), float(density_u.value))\n",
    "\n",
    "button.on_click(on_button_click)\n",
    "\n",
    "display(output)"
   ]
  },
  {
   "cell_type": "markdown",
   "id": "2bb775c8",
   "metadata": {},
   "source": [
    "From this plot it becomes clear as altitude increases, rate of climb decreases. This is also illustrated below where the maximum rate of climb is plotted against altitude. It appears that this curve is almost linear. \n",
    "\n",
    "Two points on this curve are of significant importance, the absolute ceiling (or theoretical ceiling) and service ceiling. The former refers to the altitude at which maximum rate of climb is equal to zero. By definition at this altitude the power available curve is tangent to the power required curve. In practice, however, the practical upper limit of flight altitude i.e., service ceiling is used. This is defined as the altitude at which the maximum rate of climb is reduced to 0.5m/s. "
   ]
  },
  {
   "cell_type": "markdown",
   "id": "7e7e9a8e",
   "metadata": {},
   "source": [
    "<a id=\"en-route-climb-p-p\"></a>\n",
    "## En-route Climb Procedures and Performance \n",
    "\n",
    "### Airspeed measurement: instrumentation\n",
    "As you might recall from previous courses, the determination of airspeed is performed through the measurement of differential pressure. This differential pressure, often termed impact pressure, refers to the difference between the total pressure and the freestream static pressure. \n",
    "\n",
    "$$ q_c = p_t - p$$ \n",
    "\n",
    "where, $p_t$ is the total pressure and $p$ is the freestream static pressure. \n",
    "The total pressure is determined by a pitot-probe, as it has a orifice at the stagnation point. The freestream static pressure is determined by a static-probe. Usually these two probes are combined to form the pitot-static problem. \n",
    "\n",
    "$$V = \\sqrt{\\frac{2\\gamma}{\\gamma-1}\\frac{p}{\\rho}\\left[ \\left(1+\\frac{p_t-p}{p} \\right)^\\frac{\\gamma-1}{\\gamma} -1 \\right]}$$\n",
    "\n",
    "#### Different types of airspeed\n",
    "Having seen how airspeed is determined, it is important to distinguish between different types of airspeed. The three types we will focus on include: Indicated Airspeed (IAS), Equivalent Airspeed (EAS), and True Airspeed (TAS). \n",
    "\n",
    "**Indicated Airspeed** is the measured airspeed assuming standard sea-level conditions. Hence, the following holds:\n",
    "\n",
    "$$V_i = \\sqrt{\\frac{2\\gamma}{\\gamma-1}\\frac{p_0}{\\rho_0}\\left[ \\left(1+\\frac{p_t-p}{p_0} \\right)^\\frac{\\gamma-1}{\\gamma} -1 \\right]}$$\n",
    "\n",
    "Important to note: \n",
    "- IAS does not depend on altitude and hence is a convenient measurement for pilots \n",
    "- IAS does account of compressibility effects and as a result it is relatively accurate at high speed \n",
    "- IAS does need to be corrected for position and orientation of the probe, in such a case the airspeed is denoted as Calibrated Airspeed (CAS). Please note, in the scope of this course it is assumed $V_i = V_c$\n",
    "- At low Mach numbers (incompressible flow) $IAS \\approx EAS$\n",
    "\n",
    "\n",
    "**Equivalent Airspeed** is the measured airspeed assuming standard sea-level conditions, and incompressible flow. Hence, making use of Bernoulli:\n",
    "\n",
    "$$p_t-p = \\frac{1}{2}\\rho V^2 \\Rightarrow V_e = \\sqrt{\\frac{2(p_t-p)}{\\rho_0}}$$\n",
    "\n",
    "Important to note:\n",
    "- EAS does not depend on altitude and hence is convenient for pilots \n",
    "- EAS has the same dynamic pressure, $q_\\infty$, as its corresponding velocity, $V$ and therefore is convenient for engineers\n",
    "- EAS does not account for compressibility effects and as a result is only accurate at low speeds\n",
    "\n",
    "\n",
    "**True Airspeed** is the actual airspeed at which the aircraft is flying. At low subsonic speeds, the TAS can be computed by correcting EAS for altitude, namely by:\n",
    "\n",
    "$$V = V_e \\sqrt{\\frac{\\rho_0}{\\rho}}$$\n",
    "\n",
    "At higher speeds, TAS can be computed from the calibrated airspeed. "
   ]
  },
  {
   "cell_type": "markdown",
   "id": "2669aebc",
   "metadata": {},
   "source": [
    "#### Flight Strategy\n",
    "\n",
    "Based on the different types of airspeeds introduced, it becomes clear that the analysis considered thus far has assumed steady flight, implying constant true airspeed. Alternatively one could consider flying with constant indicated airspeed. From a practical perspective, flying at constant indicated airspeed is a more convenient task for the pilot. This is because flying at constant true airspeed requires that the pilot continuously calculates what the true airspeed is. \n",
    "\n",
    "Recalling the equation for IAS and the assumption that for incompressible flow $IAS \\approx EAS$, it can be noted that for any altitude above sea level:\n",
    "$$ TAS > EAS \\approx IAS$$\n",
    "Hence, flying at constant IAS implies that the TAS will increase with increasing altitude, that is the aircraft is accelerating and hence the flight is unsteady. This increase in TAS is not monotonic as there exists a Mach number that may not be exceeded. Hence the increase of TAS with altitude is plotted in the figure below. \n",
    "\n",
    "![alt text](\\Images\\lec1-crossover.png)\n",
    "\n",
    "From the plot it becomes apparent at a certain point after which the Mach number is the limiting constraint. This point is known as the crossover speed. Furthermore, please note the top of the Mach number is vertical as temperature is contant in the Tropopause (and hence so is the speed of sound).\n"
   ]
  },
  {
   "cell_type": "markdown",
   "id": "b723394f",
   "metadata": {},
   "source": [
    "### Performance\n",
    "Having seen how climb performance exists under steady conditions, let us now consider unsteady climb performance. Again as before, we begin our analysis with the equations of motion, however now without the assumption of steady flight. However, please note the trajectory is still assumed to be quasi-rectilinear. Hence, the equations of motion become:\n",
    "\n",
    "$$ T -D -W \\sin{\\gamma} = \\frac{W}{g} \\dot{V} \\\\ L - W = 0$$\n",
    "\n",
    "Following the same procedure as before, the rate of climb can be derived by converting the first equation of motion into the power equation:\n",
    "\n",
    "$$ \\frac{TV - DV}{W} = V \\sin \\gamma + \\frac{V}{g} \\dot{V} $$\n",
    "\n",
    "However, unlike before, on the right-hand side of the equation there exists an additional term along with the rate of climb. This additional term can be explained as the rate of change of kinetic energy per unit weight. This too intuitively makes sense, as now with accelerated climb the excess power is used for both climbing in altitude and increasing speed, that is:\n",
    "\n",
    "$$\\frac{P_a - P_r}{W} = V \\sin \\gamma + \\frac{V}{g} \\dot{V}= \\frac{\\partial (E_{p} /W)}{\\partial t} + \\frac{\\partial (E_{k} /W)}{\\partial t}$$\n",
    "\n",
    "Upon further investigating the equation, one observes that the left-hand side of the equation is the rate of climb under steady conditions. Hence it is reasonable to wonder whether the rate of climb under accelerated flight is related to the rate of climb under steady conditions. To do so, first apply the chain rule to the rate of change of velocity:\n",
    "\n",
    "$$ \\frac{dV}{dt} = \\frac{\\partial V}{\\partial h} \\frac{dh}{dt} = \\frac{\\partial V}{\\partial h} ROC$$\n",
    "\n",
    "Hence, \n",
    "\n",
    "$$ ROC_{steady} = ROC + \\frac{V}{g} \\frac{\\partial V}{\\partial h} ROC = ROC \\left( 1 + \\frac{V}{g} \\frac{\\partial V}{\\partial h }\\right) $$\n",
    "\n",
    "$$ \\frac{ROC}{ROC_{steady}} = \\frac{1}{1+\\frac{V}{g} \\frac{\\partial V}{\\partial h}} $$\n",
    "\n",
    "If one climbs at constant EAS, then the analytical expression for $\\frac{\\partial V}{\\partial h}$ is:\n",
    "\n",
    "$$\\frac{\\partial V}{\\partial h} = V_e \\frac{\\partial \\left( \\sqrt{\\frac{\\rho_0}{\\rho}} \\right)}{\\partial h} $$\n"
   ]
  },
  {
   "cell_type": "markdown",
   "id": "14c87454",
   "metadata": {},
   "source": [
    "<span style='color:green'>Challenge!\n",
    "Can you derive the analytical expressions for $\\frac{\\partial V}{\\partial h}$ using the ISA atmosphere model?"
   ]
  },
  {
   "cell_type": "markdown",
   "id": "5607c761",
   "metadata": {},
   "source": [
    "## Powered Descent Procedures and Performance\n",
    "\n",
    "Powered descent procedures and performance are largely equivalent to climb procedures and performance. The only vital difference being, a deficit in power available with respect to power required is used (rather than excess). Hence, the steady rate of climb is less than zero. "
   ]
  },
  {
   "cell_type": "markdown",
   "id": "ba0d8c4b",
   "metadata": {},
   "source": [
    "<a id=\"conclusion\"></a>\n",
    "## Conclusions\n",
    "\n",
    "That marks the end of the first lecture! It was a lot of information to digest so, please take your time to go through all of it. Once you feel as though you have understood the bulk of the contents check if you can do the following: \n",
    "\n",
    "- Dervive the equations of motion for unsteady, symmetric flight under constant mass\n",
    "- Understand and correctly apply necessary simplifications to the general equations of motion based on the postulates of the problem \n",
    "- Calculate both the angle and rate of climb for steady flight \n",
    "- Analyse how rate of climb is affected by altitude quantitatively (in terms of numerical computations) and qualitatively (in terms of the flight envelope)\n",
    "- Explain the different types of airspeeds commonly used and where they are applicable\n",
    "- Derive and perform computations for rate of climb under unsteady conditions \n",
    "\n",
    "Please use these objectives as a foundation, you are strongely encouraged to go beyond and consider further implications of the theory described.\n",
    "\n",
    "If these objectives feel doable, please test your understanding using the practice exercises given below. "
   ]
  },
  {
   "cell_type": "markdown",
   "id": "3971df70",
   "metadata": {},
   "source": [
    "<a id=\"what-next\"></a>\n",
    "## What next?\n",
    "\n",
    "- Sharpen your skills by attempting the practice questions!\n",
    "- Start reading the next lectures by clicking on the lecture of your choice below!"
   ]
  },
  {
   "cell_type": "markdown",
   "id": "e6b31e11",
   "metadata": {
    "vscode": {
     "languageId": "html"
    }
   },
   "source": [
    "<!-- <!DOCTYPE html> -->\n",
    "<html lang=\"en\">\n",
    "<head>\n",
    "    <meta charset=\"UTF-8\">\n",
    "    <meta name=\"viewport\" content=\"width=device-width, initial-scale=1.0\">\n",
    "    <title>Dynamic Timeline</title>\n",
    "    <script>\n",
    "        // Set the size as a variable\n",
    "        var imageSize = 800; // Set the size to your desired value\n",
    "\n",
    "        // Function to calculate coordinates based on image width\n",
    "        function calculateCoordinates() {\n",
    "            // Calculate coordinates for each area\n",
    "            for (var i = 1; i <= 7; i++) {\n",
    "                var startCoord = (i - 1) * (imageSize / 7);\n",
    "                var endCoord = i * (imageSize / 7);\n",
    "\n",
    "                // Update the coordinates in the HTML map\n",
    "                var area = document.getElementById(\"area\" + i);\n",
    "                area.coords = startCoord + \",0,\" + endCoord + \",135\";\n",
    "            }\n",
    "        }\n",
    "    </script>\n",
    "</head>\n",
    "<body onload=\"calculateCoordinates()\">\n",
    "\n",
    "<img src=\"Images\\lec-timeline-no-pictures.png\" usemap=\"#timeline\" alt=\"Timeline Image\">\n",
    "\n",
    "<map name=\"timeline\">\n",
    "    <!-- Set coordinates based on the calculated image width -->\n",
    "    <area id=\"area1\" shape=\"rect\" coords=\"0,0,0,0\" href=\"Lecture 1.ipynb\" alt=\"Notebook 1\">\n",
    "    <area id=\"area2\" shape=\"rect\" coords=\"0,0,0,0\" href=\"Lecture 2.ipynb\" alt=\"Notebook 2\">\n",
    "    <area id=\"area3\" shape=\"rect\" coords=\"0,0,0,0\" href=\"Lecture 3.ipynb\" alt=\"Notebook 3\">\n",
    "    <area id=\"area4\" shape=\"rect\" coords=\"0,0,0,0\" href=\"Lecture 4.ipynb\" alt=\"Notebook 4\">\n",
    "    <area id=\"area5\" shape=\"rect\" coords=\"0,0,0,0\" href=\"Lecture 5.ipynb\" alt=\"Notebook 5\">\n",
    "    <area id=\"area6\" shape=\"rect\" coords=\"0,0,0,0\" href=\"Lecture 6.ipynb\" alt=\"Notebook 6\">\n",
    "    <area id=\"area7\" shape=\"rect\" coords=\"0,0,0,0\" href=\"Lecture 7.ipynb\" alt=\"Notebook 7\">\n",
    "</map>\n",
    "\n",
    "</body>\n",
    "</html>\n"
   ]
  },
  {
   "cell_type": "code",
   "execution_count": null,
   "id": "653b0e08",
   "metadata": {},
   "outputs": [],
   "source": []
  }
 ],
 "metadata": {
  "kernelspec": {
   "display_name": "Python 3 (ipykernel)",
   "language": "python",
   "name": "python3"
  },
  "language_info": {
   "codemirror_mode": {
    "name": "ipython",
    "version": 3
   },
   "file_extension": ".py",
   "mimetype": "text/x-python",
   "name": "python",
   "nbconvert_exporter": "python",
   "pygments_lexer": "ipython3",
   "version": "3.10.4"
  }
 },
 "nbformat": 4,
 "nbformat_minor": 5
}
