{
 "cells": [
  {
   "cell_type": "markdown",
   "metadata": {},
   "source": [
    "# Modelling and simulation "
   ]
  },
  {
   "cell_type": "markdown",
   "metadata": {},
   "source": [
    "## Roadmap of the notebook\n",
    "\n",
    "Welcome to the last lecture! This lecture is a quite special as it zooms out ...\n",
    "As before, a roadmap of the lecture is presented. Should you feel a little lost or in need of some context, this roadmap serves to provide you glimpse of the larger picture. If there are any sections you would like to jump to or revisit, feel free to directly skip ahead. "
   ]
  },
  {
   "cell_type": "markdown",
   "metadata": {},
   "source": [
    "## Lecture Objectives\n",
    "\n",
    "By the end of mastering this lecture, for flight in operational cruise conditions, you should be able to:\n",
    "> Recognise the components of a flight mechanics model <br>\n",
    "> Explain how a typical modelling approach evolves <br>\n",
    "> Construct rotation matrices to relate vectors in different reference frames <br>\n",
    "> Derive general equations of motion from first principles and high-level contexts <br>\n",
    "\n",
    "As usual, make sure to practice sufficiently until you feel comfortable with these objectives!"
   ]
  },
  {
   "cell_type": "markdown",
   "metadata": {},
   "source": [
    "## Modelling \n",
    "\n",
    "\n"
   ]
  },
  {
   "cell_type": "markdown",
   "metadata": {},
   "source": [
    "## Vector transformations\n",
    "\n",
    "$$ \\vec{R} = \\vec{R_0} + \\vec{r} $$\n",
    "\n",
    "$$ \\vec{R} = \\begin{bmatrix} X_0 + x \\\\ Y_0 + y \\\\ Z_0 + z \\end{bmatrix} $$\n",
    "\n",
    "$$ \\vec{R} \\neq \\begin{bmatrix} X_0 + x \\\\ Y_0 + y \\\\ Z_0 + z \\end{bmatrix} $$\n",
    "\n",
    "$$T_1(\\phi) = \\begin{bmatrix} 1 & 0 & 0 \\\\ 0 & \\cos{\\phi} & \\sin{\\phi} \\\\ 0 & \\sin{\\phi} & \\cos{\\phi} \\end{bmatrix}$$\n",
    "\n",
    "$$T_2(\\theta) = \\begin{bmatrix} \\cos{\\theta} & 0 & -\\sin{\\theta} \\\\ 0 & 1 & 0 \\\\ \\sin{\\theta} & 0 & \\cos{\\theta} \\end{bmatrix}$$\n",
    "\n",
    "$$T_3(\\psi) = \\begin{bmatrix} \\cos{\\psi} & \\sin{\\psi} & 0 \\\\ -\\sin{\\psi} & \\cos{\\psi} & 0 \\\\ 0 & 0 & 1\\end{bmatrix}$$"
   ]
  },
  {
   "cell_type": "markdown",
   "metadata": {},
   "source": [
    "<span style='color:green'>Challenge! Can you derive the expressions of \n",
    "$T_2(\\theta)$ and $T_3(\\psi)$?"
   ]
  },
  {
   "cell_type": "markdown",
   "metadata": {},
   "source": [
    "$$\\{\\vec{r}\\}_a = T_1(\\mu) T_2(\\gamma) T_3(\\Chi) \\{\\vec{r}\\}_e $$\n",
    "\n",
    "$$\\{\\vec{r}\\}_b = T_1(\\phi) T_2(\\theta) T_3(\\psi) \\{\\vec{r}\\}_e $$\n",
    "\n",
    "$$ \\frac{d\\underline{r}}{dt} = \\{\\dot{\\underline{r}}\\}_m + \\underline{\\omega} \\times \\underline{r} $$\n",
    "\n",
    "$$ \\frac{d\\underline{v}}{dt} = \\{\\dot{\\underline{v}}\\}_m + \\underline{\\omega} \\times \\underline{v} $$\n",
    "\n",
    "$$ \\vec{R} = \\vec{R}_0 + \\vec{r} $$\n",
    "\n",
    "$$ \\dot{\\underline{R}} = \\dot{\\underline{R}}_0 + \\dot{\\underline{r}}_m + \\underline{\\omega} \\times \\underline{r} $$\n",
    "\n",
    "$$ \\ddot{\\underline{R}} = \\ddot{\\underline{R}}_0 + \\{\\ddot{\\underline{r}}\\}_m + \\underline{\\omega} \\times \\{\\dot{\\underline{r}}\\}_m + \\dot{\\underline{\\omega}} \\times \\underline{r} + \\underline{\\omega} \\times \\{\\dot{\\underline{r}}\\}_m + \\underline{\\omega} \\times (\\underline{\\omega} \\times \\underline{r}) $$"
   ]
  },
  {
   "cell_type": "markdown",
   "metadata": {},
   "source": [
    "## Generalised equations of motion\n",
    "\n",
    "$$ \\Sigma \\underline{F} = \\frac{d (m \\underline{V})}{dt} $$\n",
    "\n",
    "$$ \\Sigma \\underline{F} = m \\underline{a} = m \\underline{\\ddot{R}} $$\n",
    "\n",
    "$$ \\ddot{\\underline{R}} = \\ddot{\\underline{R}}_0 + \\{\\ddot{\\underline{r}}\\}_m + \\dot{\\underline{\\omega}} \\times \\underline{r} + 2\\underline{\\omega} \\times \\{\\dot{\\underline{r}}\\}_m + \\underline{\\omega} \\times (\\underline{\\omega} \\times \\underline{r}) $$\n",
    "\n",
    "$$ \\{\\underline{\\dot{r}}\\}_m = 0 \\forall \\underline{r} $$\n",
    "\n",
    "$$ \\Sigma \\underline{F} = m[\\underline{\\ddot{R}}_0 + \\underline{\\dot{\\omega}} \\times \\underline{r} + \\underline{\\omega} \\times (\\underline{\\omega} \\times \\underline{r})] $$\n",
    "\n",
    "$$ \\underline{r} = 0 $$\n",
    "\n",
    "$$ \\Sigma \\underline{F} = m \\underline{\\ddot{R}}_0 $$\n",
    "\n",
    "$$ \\omega = \n",
    "\\begin{bmatrix} 0 \\\\ 0 \\\\ \\dot{\\chi} \\end{bmatrix} \n",
    "+ \\begin{bmatrix} 0 \\\\ \\dot{\\gamma} \\\\ 0 \\end{bmatrix} \n",
    "+ \\begin{bmatrix} \\dot{\\mu} \\\\ 0 \\\\ 0 \\end{bmatrix}$$\n",
    "\n",
    "$$ \\omega = \\begin{bmatrix} \\dot{\\mu} - \\dot{\\chi}\\sin{\\gamma} \\\\ \\dot{\\chi}\\cos{\\gamma}\\sin{\\mu} + \\dot{\\gamma}\\cos{\\mu} \\\\ \\dot{\\chi}\\cos{\\gamma}\\cos{\\mu} - \\dot{\\gamma}\\sin{\\mu} \\end{bmatrix} $$\n",
    "\n",
    "$$ \\underline{\\ddot{R}}_0 = \\begin{bmatrix} \\dot{V} \\\\ V(\\dot{\\chi}\\cos{\\gamma}\\cos{\\mu} - \\dot{\\gamma}\\sin{\\mu}) \\\\ V(\\dot{\\chi} \\cos{\\gamma}\\sin{\\mu} + \\dot{\\gamma} \\cos{\\mu}) \\end{bmatrix} $$\n",
    "\n",
    "$$ \\Sigma \\underline{F} = \\underline{D} + \\underline{L} + \\underline{T} + \\underline{W} $$ \n",
    "\n",
    "$$ \\Sigma \\underline{F} = \\begin{bmatrix} T - D- W \\sin{\\gamma} \\\\ W \\cos{\\gamma}\\sin{\\mu} \\\\ -L + W \\cos{\\gamma}\\cos{\\mu} \\end{bmatrix} $$\n",
    "\n",
    "$$ m \\dot{V} = T - D- W \\sin{\\gamma} \\\\ mV(\\dot{\\chi}\\cos{\\gamma}\\cos{\\mu} - \\dot{\\gamma}\\sin{\\mu}) = W \\cos{\\gamma}\\sin{\\mu} \\\\ mV(\\dot{\\chi} \\cos{\\gamma}\\sin{\\mu} + \\dot{\\gamma} \\cos{\\mu}) = -L + W \\cos{\\gamma}\\cos{\\mu} $$\n",
    "\n",
    "$$ m \\dot{V} = T - D- W \\sin{\\gamma} \\\\ mV\\dot{\\gamma} = L\\cos{\\mu} - W \\cos{\\gamma} \\\\ mV\\dot{\\chi} \\cos{\\gamma} = L\\sin{\\mu} $$\n",
    "\n",
    "$$ 0 = T - D \\\\ 0 = L\\cos{\\mu} - W  \\\\ mV\\dot{\\chi} = L\\sin{\\mu} $$\n",
    "\n",
    "discrete slider picture frames for coordinate systems "
   ]
  },
  {
   "cell_type": "markdown",
   "metadata": {},
   "source": [
    "## Conclusion"
   ]
  }
 ],
 "metadata": {
  "kernelspec": {
   "display_name": "Python 3 (ipykernel)",
   "language": "python",
   "name": "python3"
  },
  "language_info": {
   "codemirror_mode": {
    "name": "ipython",
    "version": 3
   },
   "file_extension": ".py",
   "mimetype": "text/x-python",
   "name": "python",
   "nbconvert_exporter": "python",
   "pygments_lexer": "ipython3",
   "version": "3.10.4"
  }
 },
 "nbformat": 4,
 "nbformat_minor": 5
}
