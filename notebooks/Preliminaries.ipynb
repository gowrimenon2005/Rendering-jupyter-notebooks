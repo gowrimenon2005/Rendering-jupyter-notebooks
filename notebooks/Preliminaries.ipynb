{
 "cells": [
  {
   "cell_type": "markdown",
   "metadata": {},
   "source": [
    "# A little on coordinate systems\n",
    "\n",
    "Dear student! This notebook goes .... of the coordinate systems used in this course. This should have been covered in significant detail in other courses, so you are encouraged to revisit your notes from those courses. Regardless, a concise summary is provided here. \n",
    "\n",
    "As you are well familiar from courses on dynamics and vibrations, to describe any form of position and/or motion it is quintessential to define the used coordinate system. In this course, four coordinate systems are of importance: Earth axis system, moving Earth axis system, body axis system, and the air-path axis system. \n",
    "\n",
    "## 1. The Earth Axis System \n",
    "The Earth axis system (denoted by subscript g), sometimes referred to as the ground axis system is visualized below. As the name suggests this coordinate system is originated at any point on the surface of the Earth. Of the four coordinate systems described this will be of least importance in the scope of this course. \n",
    "\n",
    "![alt text](Images\\earth-axis.png)\n",
    "\n",
    "## 2. Moving Earth Axis System \n",
    "The moving Earth axis system (denoted by subscript e), is similar to the Earth Axis system however with a different reference point. To illustrate it is originated at the center of gravity of the airplane, from where the $X_e, Y_e$ and $Z_e$ axes are parallel to the $X_g, Y_g$ and $Z_g$ axes. \n",
    "\n",
    "![alt text](Images\\moving-earth.png)\n",
    "\n",
    "## 3. Body Axis System \n",
    "The body axis system (denoted by subscript b), is illustrated below. The origin of this coordinate system is at the center of gravity of the aircraft. The $X_b$ axis (this is coincident with the longitudinal axis of the aircraft) extended from the nose of the aircraft and lies in the plane of symmetry of the aircraft. The $Y_b$ axis (also known as the transverse axis) is extended from the right wing of the aircraft. Lastly, the $Z_b$ axis (also referred to as the normal axis) is perpendicular to the $X_b$ axis and also lies in the plane of symmetry of the aircraft. It is important to note, the rotational components about the axes, $X_b, Y_b, Z_b$ are called, roll, pitch and yaw respectively. \n",
    "\n",
    "![alt text](Images\\body-axis.png)\n",
    "\n",
    "## 4. The Air-Path Axis System \n",
    "The air-path axis system (denoted by subscript a) is depicted below. The origin of this coordinate system is also at the center of gravity of the aircraft. However, the $X_a$ axis lies in the direction of the velocity vector. The $Y_a$ axis is positive to starboard. The $Z_a$ axis is taken in the plane of symmetric of the aircraft and is positive downward. \n",
    "\n",
    "![alt text](Images\\air-path.png)\n",
    "\n",
    "## Eulerian angles \n",
    "Having seen the different coordinate systems, one can imagine the need to be able to transform between coordinate systems. Such is done through the use of Eulerian angles. The mathematics of transforming between coordinate systems will be discussed more elaborately in the seventh notebook. Regardless, the most commonly used angles to describe the attitude of an aircraft are presented here, as they are relevant in all the proceeding notebooks. \n",
    "\n",
    "Firstly, consider the three angles defining the orientation of the aircraft body axes:\n",
    "1. Angle of yaw, $\\varphi$: this is the angle between the $X_e$ axis and the projection of the $X_b$ axis onto the $X_eY_e$ plane\n",
    "2. Angle of pitch. $\\theta$: this is the angle between the $X_b$ axis and its projection onto the $X_eY_e$ plane \n",
    "3. Angle of roll, $\\phi$ : this is the angle between the $Y_b$ axis and the lien of intersection between the $Y_bZ_b$ plane and $X_eY_e$ plane\n",
    "\n",
    "These three angles are visualized in figure [INSERT FIGURE]\n",
    "\n",
    "Now, let us consider the three angles describing the orientation of the air-path axes:\n",
    "1. Azimuth angle, $\\chi$: this is the angle between the projection of the $X_a$ axis on the $X_eY_e$ plane and the $X_e$ axis \n",
    "2. Flight-path angle, $\\gamma$: this is the angle between the $X_a$ and its projection on the $X_eY_e$ plane \n",
    "3. Angle of roll, $\\mu$: this is the angle between the $Y_a$ axis and the line of intersection between the $X_aY_a$ plane and $X_eY_e$ plane. \n",
    "\n",
    "These three angles are visualized in figure [INSERT FIGURE]\n",
    "\n",
    "The last two angles that are specific interest are the angle of attack and the angle of sideslip. The angle of attach, $\\alpha$ is the angle between the projection of the $X_a$ axis on the plane of symmetry of the aircraft and the $X_b$ axis. The angle of sideslip, $\\beta$ is the angle between the $X_a$ axis and its projection on the plane of symmetry of the aircraft. \n",
    "\n"
   ]
  }
 ],
 "metadata": {
  "kernelspec": {
   "display_name": "Python 3 (ipykernel)",
   "language": "python",
   "name": "python3"
  },
  "language_info": {
   "codemirror_mode": {
    "name": "ipython",
    "version": 3
   },
   "file_extension": ".py",
   "mimetype": "text/x-python",
   "name": "python",
   "nbconvert_exporter": "python",
   "pygments_lexer": "ipython3",
   "version": "3.10.4"
  }
 },
 "nbformat": 4,
 "nbformat_minor": 4
}
